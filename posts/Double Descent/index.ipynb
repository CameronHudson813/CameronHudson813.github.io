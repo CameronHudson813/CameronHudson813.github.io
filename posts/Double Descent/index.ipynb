{
 "cells": [
  {
   "cell_type": "raw",
   "id": "35a8c300",
   "metadata": {
    "vscode": {
     "languageId": "raw"
    }
   },
   "source": [
    "---\n",
    "title: Newtons's Method and Adam\n",
    "author: Cameron Hudson\n",
    "date: '2025-04-19'\n",
    "image: \"image.jpg\"\n",
    "description: \"A blog post exploring Newton's Method of optimizing the logistic regression algorithm\"\n",
    "format: html\n",
    "---"
   ]
  }
 ],
 "metadata": {
  "language_info": {
   "name": "python"
  }
 },
 "nbformat": 4,
 "nbformat_minor": 5
}
