{
 "cells": [
  {
   "cell_type": "raw",
   "metadata": {
    "vscode": {
     "languageId": "raw"
    }
   },
   "source": [
    "---\n",
    "title: Auditing Bias\n",
    "author: Cameron Hudson\n",
    "date: '2025-03-12'\n",
    "image: \"image.jpg\"\n",
    "description: \"Using the PUMS dataset to predict employment and audit for racial bias.\"\n",
    "format: html\n",
    "---"
   ]
  },
  {
   "cell_type": "markdown",
   "metadata": {},
   "source": [
    "# Abstract\n",
    "Today, we will be using the PUMS dataset to predict employment of members in the state of Michigan that are within the dataset, as well as auditing for racial bias. The process we will be using is first implementing a SVC to predict employment status based on features excluding race and the target variable (employment status), then evaluating our findings based on statistical definitions of fairness, such as calibration, error rate balance, and statistical parity of each racial group (white, black, or other). Through this process, I evaluated my model as passing both approximate cabliration and error rate balance tests but failing the statistical parity test, with white people having a higher rate of being predicted to be employed than black people or other people of a self-identified racial identity. Overall, I note in the conclusion the predicted impact of implementing this predictor model at large and note potential issues/uncomforabilites."
   ]
  },
  {
   "cell_type": "markdown",
   "metadata": {},
   "source": [
    "# Fetching PUMS Dataset"
   ]
  },
  {
   "cell_type": "markdown",
   "metadata": {},
   "source": [
    "First we will download the data that we are working with:"
   ]
  },
  {
   "cell_type": "code",
   "execution_count": 2,
   "metadata": {},
   "outputs": [
    {
     "data": {
      "text/html": [
       "<div>\n",
       "<style scoped>\n",
       "    .dataframe tbody tr th:only-of-type {\n",
       "        vertical-align: middle;\n",
       "    }\n",
       "\n",
       "    .dataframe tbody tr th {\n",
       "        vertical-align: top;\n",
       "    }\n",
       "\n",
       "    .dataframe thead th {\n",
       "        text-align: right;\n",
       "    }\n",
       "</style>\n",
       "<table border=\"1\" class=\"dataframe\">\n",
       "  <thead>\n",
       "    <tr style=\"text-align: right;\">\n",
       "      <th></th>\n",
       "      <th>RT</th>\n",
       "      <th>SERIALNO</th>\n",
       "      <th>DIVISION</th>\n",
       "      <th>SPORDER</th>\n",
       "      <th>PUMA</th>\n",
       "      <th>REGION</th>\n",
       "      <th>ST</th>\n",
       "      <th>ADJINC</th>\n",
       "      <th>PWGTP</th>\n",
       "      <th>AGEP</th>\n",
       "      <th>...</th>\n",
       "      <th>PWGTP71</th>\n",
       "      <th>PWGTP72</th>\n",
       "      <th>PWGTP73</th>\n",
       "      <th>PWGTP74</th>\n",
       "      <th>PWGTP75</th>\n",
       "      <th>PWGTP76</th>\n",
       "      <th>PWGTP77</th>\n",
       "      <th>PWGTP78</th>\n",
       "      <th>PWGTP79</th>\n",
       "      <th>PWGTP80</th>\n",
       "    </tr>\n",
       "  </thead>\n",
       "  <tbody>\n",
       "    <tr>\n",
       "      <th>0</th>\n",
       "      <td>P</td>\n",
       "      <td>2018GQ0000064</td>\n",
       "      <td>3</td>\n",
       "      <td>1</td>\n",
       "      <td>2907</td>\n",
       "      <td>2</td>\n",
       "      <td>26</td>\n",
       "      <td>1013097</td>\n",
       "      <td>8</td>\n",
       "      <td>60</td>\n",
       "      <td>...</td>\n",
       "      <td>9</td>\n",
       "      <td>0</td>\n",
       "      <td>12</td>\n",
       "      <td>9</td>\n",
       "      <td>11</td>\n",
       "      <td>9</td>\n",
       "      <td>0</td>\n",
       "      <td>9</td>\n",
       "      <td>10</td>\n",
       "      <td>12</td>\n",
       "    </tr>\n",
       "    <tr>\n",
       "      <th>1</th>\n",
       "      <td>P</td>\n",
       "      <td>2018GQ0000154</td>\n",
       "      <td>3</td>\n",
       "      <td>1</td>\n",
       "      <td>1200</td>\n",
       "      <td>2</td>\n",
       "      <td>26</td>\n",
       "      <td>1013097</td>\n",
       "      <td>92</td>\n",
       "      <td>20</td>\n",
       "      <td>...</td>\n",
       "      <td>92</td>\n",
       "      <td>91</td>\n",
       "      <td>93</td>\n",
       "      <td>95</td>\n",
       "      <td>93</td>\n",
       "      <td>173</td>\n",
       "      <td>91</td>\n",
       "      <td>15</td>\n",
       "      <td>172</td>\n",
       "      <td>172</td>\n",
       "    </tr>\n",
       "    <tr>\n",
       "      <th>2</th>\n",
       "      <td>P</td>\n",
       "      <td>2018GQ0000158</td>\n",
       "      <td>3</td>\n",
       "      <td>1</td>\n",
       "      <td>2903</td>\n",
       "      <td>2</td>\n",
       "      <td>26</td>\n",
       "      <td>1013097</td>\n",
       "      <td>26</td>\n",
       "      <td>54</td>\n",
       "      <td>...</td>\n",
       "      <td>26</td>\n",
       "      <td>52</td>\n",
       "      <td>3</td>\n",
       "      <td>25</td>\n",
       "      <td>25</td>\n",
       "      <td>28</td>\n",
       "      <td>28</td>\n",
       "      <td>50</td>\n",
       "      <td>51</td>\n",
       "      <td>25</td>\n",
       "    </tr>\n",
       "    <tr>\n",
       "      <th>3</th>\n",
       "      <td>P</td>\n",
       "      <td>2018GQ0000174</td>\n",
       "      <td>3</td>\n",
       "      <td>1</td>\n",
       "      <td>1801</td>\n",
       "      <td>2</td>\n",
       "      <td>26</td>\n",
       "      <td>1013097</td>\n",
       "      <td>86</td>\n",
       "      <td>20</td>\n",
       "      <td>...</td>\n",
       "      <td>85</td>\n",
       "      <td>12</td>\n",
       "      <td>87</td>\n",
       "      <td>12</td>\n",
       "      <td>87</td>\n",
       "      <td>85</td>\n",
       "      <td>157</td>\n",
       "      <td>86</td>\n",
       "      <td>86</td>\n",
       "      <td>86</td>\n",
       "    </tr>\n",
       "    <tr>\n",
       "      <th>4</th>\n",
       "      <td>P</td>\n",
       "      <td>2018GQ0000212</td>\n",
       "      <td>3</td>\n",
       "      <td>1</td>\n",
       "      <td>2600</td>\n",
       "      <td>2</td>\n",
       "      <td>26</td>\n",
       "      <td>1013097</td>\n",
       "      <td>99</td>\n",
       "      <td>33</td>\n",
       "      <td>...</td>\n",
       "      <td>98</td>\n",
       "      <td>96</td>\n",
       "      <td>98</td>\n",
       "      <td>95</td>\n",
       "      <td>174</td>\n",
       "      <td>175</td>\n",
       "      <td>96</td>\n",
       "      <td>95</td>\n",
       "      <td>179</td>\n",
       "      <td>97</td>\n",
       "    </tr>\n",
       "  </tbody>\n",
       "</table>\n",
       "<p>5 rows × 286 columns</p>\n",
       "</div>"
      ],
      "text/plain": [
       "  RT       SERIALNO  DIVISION  SPORDER  PUMA  REGION  ST   ADJINC  PWGTP  \\\n",
       "0  P  2018GQ0000064         3        1  2907       2  26  1013097      8   \n",
       "1  P  2018GQ0000154         3        1  1200       2  26  1013097     92   \n",
       "2  P  2018GQ0000158         3        1  2903       2  26  1013097     26   \n",
       "3  P  2018GQ0000174         3        1  1801       2  26  1013097     86   \n",
       "4  P  2018GQ0000212         3        1  2600       2  26  1013097     99   \n",
       "\n",
       "   AGEP  ...  PWGTP71  PWGTP72  PWGTP73  PWGTP74  PWGTP75  PWGTP76  PWGTP77  \\\n",
       "0    60  ...        9        0       12        9       11        9        0   \n",
       "1    20  ...       92       91       93       95       93      173       91   \n",
       "2    54  ...       26       52        3       25       25       28       28   \n",
       "3    20  ...       85       12       87       12       87       85      157   \n",
       "4    33  ...       98       96       98       95      174      175       96   \n",
       "\n",
       "   PWGTP78  PWGTP79  PWGTP80  \n",
       "0        9       10       12  \n",
       "1       15      172      172  \n",
       "2       50       51       25  \n",
       "3       86       86       86  \n",
       "4       95      179       97  \n",
       "\n",
       "[5 rows x 286 columns]"
      ]
     },
     "execution_count": 2,
     "metadata": {},
     "output_type": "execute_result"
    }
   ],
   "source": [
    "from folktables import ACSDataSource, ACSEmployment, BasicProblem, adult_filter\n",
    "import numpy as np\n",
    "\n",
    "STATE = \"MI\"\n",
    "\n",
    "data_source = ACSDataSource(survey_year='2018', \n",
    "                            horizon='1-Year', \n",
    "                            survey='person')\n",
    "\n",
    "acs_data = data_source.get_data(states=[STATE], download=True)\n",
    "\n",
    "acs_data.head()"
   ]
  },
  {
   "cell_type": "markdown",
   "metadata": {},
   "source": [
    "# Feature Selection"
   ]
  },
  {
   "cell_type": "markdown",
   "metadata": {},
   "source": [
    "For the purposes of our demonstration, we only need a small subset of the features offered."
   ]
  },
  {
   "cell_type": "code",
   "execution_count": 3,
   "metadata": {},
   "outputs": [
    {
     "data": {
      "text/html": [
       "<div>\n",
       "<style scoped>\n",
       "    .dataframe tbody tr th:only-of-type {\n",
       "        vertical-align: middle;\n",
       "    }\n",
       "\n",
       "    .dataframe tbody tr th {\n",
       "        vertical-align: top;\n",
       "    }\n",
       "\n",
       "    .dataframe thead th {\n",
       "        text-align: right;\n",
       "    }\n",
       "</style>\n",
       "<table border=\"1\" class=\"dataframe\">\n",
       "  <thead>\n",
       "    <tr style=\"text-align: right;\">\n",
       "      <th></th>\n",
       "      <th>AGEP</th>\n",
       "      <th>SCHL</th>\n",
       "      <th>MAR</th>\n",
       "      <th>RELP</th>\n",
       "      <th>DIS</th>\n",
       "      <th>ESP</th>\n",
       "      <th>CIT</th>\n",
       "      <th>MIG</th>\n",
       "      <th>MIL</th>\n",
       "      <th>ANC</th>\n",
       "      <th>NATIVITY</th>\n",
       "      <th>DEAR</th>\n",
       "      <th>DEYE</th>\n",
       "      <th>DREM</th>\n",
       "      <th>SEX</th>\n",
       "      <th>RAC1P</th>\n",
       "      <th>ESR</th>\n",
       "    </tr>\n",
       "  </thead>\n",
       "  <tbody>\n",
       "    <tr>\n",
       "      <th>0</th>\n",
       "      <td>60</td>\n",
       "      <td>15.0</td>\n",
       "      <td>5</td>\n",
       "      <td>17</td>\n",
       "      <td>1</td>\n",
       "      <td>NaN</td>\n",
       "      <td>1</td>\n",
       "      <td>1.0</td>\n",
       "      <td>4.0</td>\n",
       "      <td>1</td>\n",
       "      <td>1</td>\n",
       "      <td>2</td>\n",
       "      <td>2</td>\n",
       "      <td>1.0</td>\n",
       "      <td>1</td>\n",
       "      <td>2</td>\n",
       "      <td>6.0</td>\n",
       "    </tr>\n",
       "    <tr>\n",
       "      <th>1</th>\n",
       "      <td>20</td>\n",
       "      <td>19.0</td>\n",
       "      <td>5</td>\n",
       "      <td>17</td>\n",
       "      <td>2</td>\n",
       "      <td>NaN</td>\n",
       "      <td>1</td>\n",
       "      <td>1.0</td>\n",
       "      <td>4.0</td>\n",
       "      <td>2</td>\n",
       "      <td>1</td>\n",
       "      <td>2</td>\n",
       "      <td>2</td>\n",
       "      <td>2.0</td>\n",
       "      <td>2</td>\n",
       "      <td>1</td>\n",
       "      <td>6.0</td>\n",
       "    </tr>\n",
       "    <tr>\n",
       "      <th>2</th>\n",
       "      <td>54</td>\n",
       "      <td>18.0</td>\n",
       "      <td>3</td>\n",
       "      <td>16</td>\n",
       "      <td>1</td>\n",
       "      <td>NaN</td>\n",
       "      <td>1</td>\n",
       "      <td>1.0</td>\n",
       "      <td>4.0</td>\n",
       "      <td>4</td>\n",
       "      <td>1</td>\n",
       "      <td>2</td>\n",
       "      <td>2</td>\n",
       "      <td>1.0</td>\n",
       "      <td>1</td>\n",
       "      <td>1</td>\n",
       "      <td>6.0</td>\n",
       "    </tr>\n",
       "    <tr>\n",
       "      <th>3</th>\n",
       "      <td>20</td>\n",
       "      <td>18.0</td>\n",
       "      <td>5</td>\n",
       "      <td>17</td>\n",
       "      <td>2</td>\n",
       "      <td>NaN</td>\n",
       "      <td>1</td>\n",
       "      <td>1.0</td>\n",
       "      <td>4.0</td>\n",
       "      <td>4</td>\n",
       "      <td>1</td>\n",
       "      <td>2</td>\n",
       "      <td>2</td>\n",
       "      <td>2.0</td>\n",
       "      <td>1</td>\n",
       "      <td>1</td>\n",
       "      <td>6.0</td>\n",
       "    </tr>\n",
       "    <tr>\n",
       "      <th>4</th>\n",
       "      <td>33</td>\n",
       "      <td>18.0</td>\n",
       "      <td>5</td>\n",
       "      <td>16</td>\n",
       "      <td>2</td>\n",
       "      <td>NaN</td>\n",
       "      <td>1</td>\n",
       "      <td>3.0</td>\n",
       "      <td>4.0</td>\n",
       "      <td>2</td>\n",
       "      <td>1</td>\n",
       "      <td>2</td>\n",
       "      <td>2</td>\n",
       "      <td>2.0</td>\n",
       "      <td>1</td>\n",
       "      <td>1</td>\n",
       "      <td>6.0</td>\n",
       "    </tr>\n",
       "  </tbody>\n",
       "</table>\n",
       "</div>"
      ],
      "text/plain": [
       "   AGEP  SCHL  MAR  RELP  DIS  ESP  CIT  MIG  MIL  ANC  NATIVITY  DEAR  DEYE  \\\n",
       "0    60  15.0    5    17    1  NaN    1  1.0  4.0    1         1     2     2   \n",
       "1    20  19.0    5    17    2  NaN    1  1.0  4.0    2         1     2     2   \n",
       "2    54  18.0    3    16    1  NaN    1  1.0  4.0    4         1     2     2   \n",
       "3    20  18.0    5    17    2  NaN    1  1.0  4.0    4         1     2     2   \n",
       "4    33  18.0    5    16    2  NaN    1  3.0  4.0    2         1     2     2   \n",
       "\n",
       "   DREM  SEX  RAC1P  ESR  \n",
       "0   1.0    1      2  6.0  \n",
       "1   2.0    2      1  6.0  \n",
       "2   1.0    1      1  6.0  \n",
       "3   2.0    1      1  6.0  \n",
       "4   2.0    1      1  6.0  "
      ]
     },
     "execution_count": 3,
     "metadata": {},
     "output_type": "execute_result"
    }
   ],
   "source": [
    "possible_features=['AGEP', 'SCHL', 'MAR', 'RELP', 'DIS', 'ESP', 'CIT', 'MIG', 'MIL', 'ANC', 'NATIVITY', 'DEAR', 'DEYE', 'DREM', 'SEX', 'RAC1P', 'ESR']\n",
    "acs_data[possible_features].head()"
   ]
  },
  {
   "cell_type": "markdown",
   "metadata": {},
   "source": [
    "For the purposes of predicting employment status and auditing for racial bias we are going to exclude the features `ESR` (employment status) and `RAC1P` (race) from the set that we are going to train a machine learning model on."
   ]
  },
  {
   "cell_type": "code",
   "execution_count": 4,
   "metadata": {},
   "outputs": [],
   "source": [
    "features_to_use = [f for f in possible_features if f not in [\"ESR\", \"RAC1P\"]]"
   ]
  },
  {
   "cell_type": "markdown",
   "metadata": {},
   "source": [
    "# Constructing the \"Basic Problem\""
   ]
  },
  {
   "cell_type": "markdown",
   "metadata": {},
   "source": []
  },
  {
   "cell_type": "code",
   "execution_count": 5,
   "metadata": {},
   "outputs": [],
   "source": [
    "EmploymentProblem = BasicProblem(\n",
    "    features=features_to_use,\n",
    "    target='ESR',\n",
    "    target_transform=lambda x: x == 1,\n",
    "    group='RAC1P',\n",
    "    preprocess=lambda x: x,\n",
    "    postprocess=lambda x: np.nan_to_num(x, -1),\n",
    ")\n",
    "\n",
    "features, label, group = EmploymentProblem.df_to_numpy(acs_data)"
   ]
  },
  {
   "cell_type": "markdown",
   "metadata": {},
   "source": [
    "# Train Test Split\n",
    "In order to accurately evaluate the accuracy of machine learning models, we are going to train the model using the data from X_train, and test the model using the data from X_test. Note we are seperating the sensitive feature `RAC1P` into the `group` array which we will use later on when we audit the model for racial bias."
   ]
  },
  {
   "cell_type": "code",
   "execution_count": 6,
   "metadata": {},
   "outputs": [],
   "source": [
    "from sklearn.model_selection import train_test_split\n",
    "X_train, X_test, y_train, y_test, group_train, group_test = train_test_split(\n",
    "    features, label, group, test_size=0.2, random_state=0)"
   ]
  },
  {
   "cell_type": "markdown",
   "metadata": {},
   "source": [
    "# Data Analysis Questions\n",
    "In order to properly analyze our data, we are first going to answer a few questions regarding the types of people in our dataset that will gives us more insight we when attempt to audit for racial bias."
   ]
  },
  {
   "cell_type": "code",
   "execution_count": 7,
   "metadata": {},
   "outputs": [],
   "source": [
    "import pandas as pd\n",
    "df = pd.DataFrame(X_train, columns = features_to_use)\n",
    "df[\"group\"] = group_train\n",
    "df[\"label\"] = y_train"
   ]
  },
  {
   "cell_type": "markdown",
   "metadata": {},
   "source": [
    "Here, before we attempt to answer the questions, turn our X_train array back into a pandas DataFrame to make the analysis of the dataset easier."
   ]
  },
  {
   "cell_type": "markdown",
   "metadata": {},
   "source": [
    "1. How many people are in the dataset?"
   ]
  },
  {
   "cell_type": "code",
   "execution_count": 8,
   "metadata": {},
   "outputs": [
    {
     "data": {
      "text/plain": [
       "79535"
      ]
     },
     "execution_count": 8,
     "metadata": {},
     "output_type": "execute_result"
    }
   ],
   "source": [
    "individuals = df.shape[0]\n",
    "individuals"
   ]
  },
  {
   "cell_type": "markdown",
   "metadata": {},
   "source": [
    "2. What proportion of these people have a target label == `1`? Where `1` whould correspond with the person being employed and `0` would correspond with the person being unemployed."
   ]
  },
  {
   "cell_type": "code",
   "execution_count": 9,
   "metadata": {},
   "outputs": [
    {
     "data": {
      "text/plain": [
       "0.44297479097252784"
      ]
     },
     "execution_count": 9,
     "metadata": {},
     "output_type": "execute_result"
    }
   ],
   "source": [
    "employed = df[df[\"label\"] == True].shape[0] / individuals\n",
    "employed"
   ]
  },
  {
   "cell_type": "markdown",
   "metadata": {},
   "source": [
    "3. Of these individuals, how many are in each group?"
   ]
  },
  {
   "cell_type": "code",
   "execution_count": 10,
   "metadata": {},
   "outputs": [
    {
     "data": {
      "text/html": [
       "<div>\n",
       "<style scoped>\n",
       "    .dataframe tbody tr th:only-of-type {\n",
       "        vertical-align: middle;\n",
       "    }\n",
       "\n",
       "    .dataframe tbody tr th {\n",
       "        vertical-align: top;\n",
       "    }\n",
       "\n",
       "    .dataframe thead th {\n",
       "        text-align: right;\n",
       "    }\n",
       "</style>\n",
       "<table border=\"1\" class=\"dataframe\">\n",
       "  <thead>\n",
       "    <tr style=\"text-align: right;\">\n",
       "      <th></th>\n",
       "      <th>groups_series</th>\n",
       "    </tr>\n",
       "  </thead>\n",
       "  <tbody>\n",
       "    <tr>\n",
       "      <th>white</th>\n",
       "      <td>0.847614</td>\n",
       "    </tr>\n",
       "    <tr>\n",
       "      <th>black</th>\n",
       "      <td>0.086515</td>\n",
       "    </tr>\n",
       "    <tr>\n",
       "      <th>other</th>\n",
       "      <td>0.065870</td>\n",
       "    </tr>\n",
       "  </tbody>\n",
       "</table>\n",
       "</div>"
      ],
      "text/plain": [
       "       groups_series\n",
       "white       0.847614\n",
       "black       0.086515\n",
       "other       0.065870"
      ]
     },
     "execution_count": 10,
     "metadata": {},
     "output_type": "execute_result"
    }
   ],
   "source": [
    "group1_proportion = df[df[\"group\"] == 1].shape[0] / individuals\n",
    "group2_proportion = df[df[\"group\"] == 2].shape[0] / individuals\n",
    "group3_proportion = df[df[\"group\"] >= 3].shape[0] / individuals\n",
    "groups_series = pd.Series({'white': group1_proportion, 'black' : group2_proportion, 'other' : group3_proportion})\n",
    "\n",
    "groups_dataframe = pd.DataFrame(groups_series, columns=['groups_series'])\n",
    "groups_dataframe\n"
   ]
  },
  {
   "cell_type": "markdown",
   "metadata": {},
   "source": [
    "4. In each group, what proportion of indiviuals have a target label == 1? (Meaning they are employed)"
   ]
  },
  {
   "cell_type": "code",
   "execution_count": 11,
   "metadata": {},
   "outputs": [
    {
     "data": {
      "text/html": [
       "<div>\n",
       "<style scoped>\n",
       "    .dataframe tbody tr th:only-of-type {\n",
       "        vertical-align: middle;\n",
       "    }\n",
       "\n",
       "    .dataframe tbody tr th {\n",
       "        vertical-align: top;\n",
       "    }\n",
       "\n",
       "    .dataframe thead th {\n",
       "        text-align: right;\n",
       "    }\n",
       "</style>\n",
       "<table border=\"1\" class=\"dataframe\">\n",
       "  <thead>\n",
       "    <tr style=\"text-align: right;\">\n",
       "      <th></th>\n",
       "      <th>white</th>\n",
       "      <th>black</th>\n",
       "      <th>other</th>\n",
       "    </tr>\n",
       "  </thead>\n",
       "  <tbody>\n",
       "    <tr>\n",
       "      <th>employed</th>\n",
       "      <td>0.385516</td>\n",
       "      <td>0.029924</td>\n",
       "      <td>0.029924</td>\n",
       "    </tr>\n",
       "    <tr>\n",
       "      <th>unemployed</th>\n",
       "      <td>0.462098</td>\n",
       "      <td>0.056591</td>\n",
       "      <td>0.003407</td>\n",
       "    </tr>\n",
       "  </tbody>\n",
       "</table>\n",
       "</div>"
      ],
      "text/plain": [
       "               white     black     other\n",
       "employed    0.385516  0.029924  0.029924\n",
       "unemployed  0.462098  0.056591  0.003407"
      ]
     },
     "execution_count": 11,
     "metadata": {},
     "output_type": "execute_result"
    }
   ],
   "source": [
    "group1_employed, group1_unemployed = df[(df[\"group\"] == 1) & (df[\"label\"] == True)].shape[0], df[(df[\"group\"] == 1) & (df[\"label\"] == False)].shape[0]\n",
    "group2_employed, group2_unemployed = df[(df[\"group\"] == 2) & (df[\"label\"] == True)].shape[0], df[(df[\"group\"] == 2) & (df[\"label\"] == False)].shape[0]\n",
    "group3_employed, group3_unemployed = df[(df[\"group\"] == 3) & (df[\"label\"] == True)].shape[0], df[(df[\"group\"] == 3) & (df[\"label\"] == False)].shape[0]\n",
    "group1_employ_proportion = pd.Series({'employed' : group1_employed / individuals, 'unemployed' : group1_unemployed / individuals})\n",
    "group2_employ_proportion = pd.Series({'employed' : group2_employed / individuals, 'unemployed' : group2_unemployed / individuals})\n",
    "group3_employ_proportion = pd.Series({'employed' : group2_employed / individuals, 'unemployed' : group3_unemployed / individuals})\n",
    "group_employ_dataframe = pd.DataFrame({'white': group1_employ_proportion, 'black': group2_employ_proportion, 'other': group3_employ_proportion})\n",
    "group_employ_dataframe"
   ]
  },
  {
   "cell_type": "markdown",
   "metadata": {},
   "source": [
    "5. What are the intersectional trends of people in the dataset that are employed? For example, race (`RAC1P`) and sex (`SEX`)?"
   ]
  },
  {
   "cell_type": "code",
   "execution_count": 12,
   "metadata": {},
   "outputs": [
    {
     "data": {
      "image/png": "[encoded data removed]",
      "text/plain": [
       "<Figure size 800x500 with 1 Axes>"
      ]
     },
     "metadata": {},
     "output_type": "display_data"
    }
   ],
   "source": [
    "import seaborn as sns\n",
    "import matplotlib.pyplot as plt\n",
    "\n",
    "df_barplot = df.copy()\n",
    "\n",
    "df_barplot['RACE_CAT'] = df_barplot['group'].map(lambda x: 'White' if x == 1 else ('Black' if x == 2 else 'Other'))\n",
    "\n",
    "employment_rates = df_barplot.groupby(['RACE_CAT', 'SEX'])['label'].mean().reset_index()\n",
    "employment_rates['SEX'] = employment_rates['SEX'].map({1: 'Male', 2: 'Female'})\n",
    "\n",
    "plt.figure(figsize=(8, 5))\n",
    "sns.barplot(employment_rates, x=\"RACE_CAT\", y='label', hue=\"SEX\")\n",
    "\n",
    "plt.xlabel(\"Race\")\n",
    "plt.ylabel(\"Proportion Employed\")\n",
    "plt.title(\"Proportion of Employed People by Race and Gender\")\n",
    "plt.ylim(0, 1)  \n",
    "plt.legend(title=\"Sex\")\n",
    "plt.show()\n",
    "\n"
   ]
  },
  {
   "cell_type": "markdown",
   "metadata": {},
   "source": [
    "# Data Analysis Conclusion\n",
    "With these findings, we gather some important information that can help inform our racial bias audit. We see that the dataset is heavily dominated with white people which may skew our predictor model from being able to accurately predict the employment status of other racial groups. We also see that white people within the dataset have a higher proportion of employed group members than other racial groups, so our predictor model should likely mirror that disparity."
   ]
  },
  {
   "cell_type": "markdown",
   "metadata": {},
   "source": [
    "# Training SVC Model\n",
    "Now that we have gathered information, it is time to train predictor model using the training dataset. We will be using a Support Vector Classifier (SVC) to predict employment status of the members of our dataset."
   ]
  },
  {
   "cell_type": "markdown",
   "metadata": {},
   "source": [
    "Above we have created the dataframes X_train, X_test, y_train, y_test, so now we must plug them into the sklearn SVC function. We use sklearn `make_pipeline` function to first run the dataset through the `StandardScaler` function before moving to our SVC (support vector classifier) machine learning model."
   ]
  },
  {
   "cell_type": "code",
   "execution_count": 37,
   "metadata": {},
   "outputs": [],
   "source": [
    "from sklearn.svm import SVC\n",
    "from sklearn.pipeline import make_pipeline\n",
    "from sklearn.preprocessing import StandardScaler\n",
    "\n",
    "model = make_pipeline(StandardScaler(), SVC(C=10, probability=True))\n",
    "model.fit(X_train, y_train)\n",
    "\n",
    "y_hat = model.predict(X_test)"
   ]
  },
  {
   "cell_type": "markdown",
   "metadata": {},
   "source": [
    "Now we use the `model.predict()` function on X_test and store the result in `y_hat`. Now, `y_hat` is a boolean array which contains all the predictions (employed == True, unemployed == False) for each row of the X_test dataset."
   ]
  },
  {
   "cell_type": "code",
   "execution_count": 14,
   "metadata": {},
   "outputs": [
    {
     "data": {
      "text/plain": [
       "array([ True,  True,  True, ...,  True,  True, False], shape=(19884,))"
      ]
     },
     "execution_count": 14,
     "metadata": {},
     "output_type": "execute_result"
    }
   ],
   "source": [
    "y_hat"
   ]
  },
  {
   "cell_type": "code",
   "execution_count": 15,
   "metadata": {},
   "outputs": [
    {
     "data": {
      "text/plain": [
       "array([1, 1, 1, ..., 1, 8, 9], shape=(19884,))"
      ]
     },
     "execution_count": 15,
     "metadata": {},
     "output_type": "execute_result"
    }
   ],
   "source": [
    "group_test"
   ]
  },
  {
   "cell_type": "markdown",
   "metadata": {},
   "source": [
    "# Model Auditing"
   ]
  },
  {
   "cell_type": "markdown",
   "metadata": {},
   "source": [
    "Now that we have created the predictor model, we can now audit the model, first concerning ourself on its overall accurracy. Below, we ask a few questions that will give us an idea of the accuracy of the model."
   ]
  },
  {
   "cell_type": "markdown",
   "metadata": {},
   "source": [
    "## Overall Measures\n",
    "1. What is the overall accuracy of the model?\n",
    "2. What is the positive predictive value (PPV) of the model?\n",
    "3. What are the overall false negative and flase positive rates (FNP and FPR) for the model?"
   ]
  },
  {
   "cell_type": "markdown",
   "metadata": {},
   "source": [
    "### Overall Acurracy of Model"
   ]
  },
  {
   "cell_type": "markdown",
   "metadata": {},
   "source": [
    "To get the overall accuracy of the model, get a boolean vector through `(y_hat == y_test)` which will give an array of truth or false values corresponding to the equality of the prediction and the actual value. To get the percentage of the correct predictions in the boolean vector, we take the mean with the `mean()` function."
   ]
  },
  {
   "cell_type": "code",
   "execution_count": 16,
   "metadata": {},
   "outputs": [
    {
     "data": {
      "text/plain": [
       "np.float64(0.825940454636894)"
      ]
     },
     "execution_count": 16,
     "metadata": {},
     "output_type": "execute_result"
    }
   ],
   "source": [
    "model_accuracy = (y_hat == y_test).mean()\n",
    "model_accuracy"
   ]
  },
  {
   "cell_type": "markdown",
   "metadata": {},
   "source": [
    "The overall accuracy of the model is approximately 82.5%"
   ]
  },
  {
   "cell_type": "markdown",
   "metadata": {},
   "source": [
    "### PPV of the Model"
   ]
  },
  {
   "cell_type": "markdown",
   "metadata": {},
   "source": [
    "To get the positive predictive value of the model, we divide the number of true positives (TP) by the total number of positive predictions (TP + FP) "
   ]
  },
  {
   "cell_type": "code",
   "execution_count": 17,
   "metadata": {},
   "outputs": [
    {
     "data": {
      "text/plain": [
       "array([[8744, 2269],\n",
       "       [1192, 7679]])"
      ]
     },
     "execution_count": 17,
     "metadata": {},
     "output_type": "execute_result"
    }
   ],
   "source": [
    "from sklearn.metrics import confusion_matrix\n",
    "\n",
    "confusion_array = confusion_matrix(y_test, y_hat)\n",
    "confusion_array"
   ]
  },
  {
   "cell_type": "code",
   "execution_count": 18,
   "metadata": {},
   "outputs": [
    {
     "data": {
      "text/plain": [
       "np.float64(0.8800322061191627)"
      ]
     },
     "execution_count": 18,
     "metadata": {},
     "output_type": "execute_result"
    }
   ],
   "source": [
    "TP = confusion_array[0][0]\n",
    "FN = confusion_array[0][1]\n",
    "FP = confusion_array[1][0]\n",
    "TN = confusion_array[1][1]\n",
    "\n",
    "PPV = TP / (TP+FP)\n",
    "PPV"
   ]
  },
  {
   "cell_type": "markdown",
   "metadata": {},
   "source": [
    "### FPR and FNR of the Model\n",
    "Similarly, we can use the confusion matrix to get the FPR and FNR of the model"
   ]
  },
  {
   "cell_type": "code",
   "execution_count": 19,
   "metadata": {},
   "outputs": [
    {
     "data": {
      "text/plain": [
       "np.float64(0.1343704204711983)"
      ]
     },
     "execution_count": 19,
     "metadata": {},
     "output_type": "execute_result"
    }
   ],
   "source": [
    "# False positive rate calculation\n",
    "FPR = FP / (FP + TN)\n",
    "FPR"
   ]
  },
  {
   "cell_type": "code",
   "execution_count": 20,
   "metadata": {},
   "outputs": [
    {
     "data": {
      "text/plain": [
       "np.float64(0.2060292381730682)"
      ]
     },
     "execution_count": 20,
     "metadata": {},
     "output_type": "execute_result"
    }
   ],
   "source": [
    "# False negative rate calculation\n",
    "FNR = FN / (FN + TP)\n",
    "FNR"
   ]
  },
  {
   "cell_type": "markdown",
   "metadata": {},
   "source": [
    "## By-Group Measures\n",
    "\n",
    "Now that we have observed the overall accuracy of the model, we now concern ourselves with the accuracy of the model as it pertains to the racial groups (white, black, other) that exist within the dataset. Below we ask a few questions:\n",
    "\n",
    "1. What is the accuracy of your model on each subgroup\n",
    "2. What is the PPV of your model on each subgroup?\n",
    "3. What are the FNR and FPR on each subgroup?\n"
   ]
  },
  {
   "cell_type": "markdown",
   "metadata": {},
   "source": [
    "To answer question 1, we can make a summary table displaying the accuracy of the model on each subgroup"
   ]
  },
  {
   "cell_type": "code",
   "execution_count": 100,
   "metadata": {},
   "outputs": [
    {
     "data": {
      "text/html": [
       "<div>\n",
       "<style scoped>\n",
       "    .dataframe tbody tr th:only-of-type {\n",
       "        vertical-align: middle;\n",
       "    }\n",
       "\n",
       "    .dataframe tbody tr th {\n",
       "        vertical-align: top;\n",
       "    }\n",
       "\n",
       "    .dataframe thead th {\n",
       "        text-align: right;\n",
       "    }\n",
       "</style>\n",
       "<table border=\"1\" class=\"dataframe\">\n",
       "  <thead>\n",
       "    <tr style=\"text-align: right;\">\n",
       "      <th></th>\n",
       "      <th>Accuracy</th>\n",
       "    </tr>\n",
       "  </thead>\n",
       "  <tbody>\n",
       "    <tr>\n",
       "      <th>White</th>\n",
       "      <td>0.827000</td>\n",
       "    </tr>\n",
       "    <tr>\n",
       "      <th>Black</th>\n",
       "      <td>0.816878</td>\n",
       "    </tr>\n",
       "    <tr>\n",
       "      <th>Other</th>\n",
       "      <td>0.824841</td>\n",
       "    </tr>\n",
       "  </tbody>\n",
       "</table>\n",
       "</div>"
      ],
      "text/plain": [
       "       Accuracy\n",
       "White  0.827000\n",
       "Black  0.816878\n",
       "Other  0.824841"
      ]
     },
     "execution_count": 100,
     "metadata": {},
     "output_type": "execute_result"
    }
   ],
   "source": [
    "accuracy_group_1 = (y_hat[group_test == 1] == y_test[group_test == 1]).mean()\n",
    "accuracy_group_2 = (y_hat[group_test == 2] == y_test[group_test == 2]).mean()\n",
    "accuracy_group_3 = (y_hat[group_test >= 3] == y_test[group_test >= 3]).mean()\n",
    "\n",
    "subgroup_accuracy = pd.Series({\"White\": accuracy_group_1,\"Black\": accuracy_group_2, \"Other\": accuracy_group_3})\n",
    "sub_acc_df = pd.DataFrame(subgroup_accuracy, columns=[\"Accuracy\"])\n",
    "sub_acc_df\n"
   ]
  },
  {
   "cell_type": "markdown",
   "metadata": {},
   "source": [
    "To answer question 2, we can return to the idea of confusion matrices, making one for each subgroup and calculating the PPV as TP (True Positive Predictions) / TP + FP (False Positive Predictions)."
   ]
  },
  {
   "cell_type": "code",
   "execution_count": 63,
   "metadata": {},
   "outputs": [
    {
     "data": {
      "text/html": [
       "<div>\n",
       "<style scoped>\n",
       "    .dataframe tbody tr th:only-of-type {\n",
       "        vertical-align: middle;\n",
       "    }\n",
       "\n",
       "    .dataframe tbody tr th {\n",
       "        vertical-align: top;\n",
       "    }\n",
       "\n",
       "    .dataframe thead th {\n",
       "        text-align: right;\n",
       "    }\n",
       "</style>\n",
       "<table border=\"1\" class=\"dataframe\">\n",
       "  <thead>\n",
       "    <tr style=\"text-align: right;\">\n",
       "      <th></th>\n",
       "      <th>PPV</th>\n",
       "    </tr>\n",
       "  </thead>\n",
       "  <tbody>\n",
       "    <tr>\n",
       "      <th>white</th>\n",
       "      <td>0.791346</td>\n",
       "    </tr>\n",
       "    <tr>\n",
       "      <th>black</th>\n",
       "      <td>0.801043</td>\n",
       "    </tr>\n",
       "    <tr>\n",
       "      <th>other</th>\n",
       "      <td>0.743590</td>\n",
       "    </tr>\n",
       "  </tbody>\n",
       "</table>\n",
       "</div>"
      ],
      "text/plain": [
       "            PPV\n",
       "white  0.791346\n",
       "black  0.801043\n",
       "other  0.743590"
      ]
     },
     "execution_count": 63,
     "metadata": {},
     "output_type": "execute_result"
    }
   ],
   "source": [
    "white_confusion_array = confusion_matrix((y_test[group_test == 1]), y_hat[group_test == 1])  \n",
    "black_confusion_array = confusion_matrix((y_test[group_test == 2]), y_hat[group_test == 2])\n",
    "other_confusion_array = confusion_matrix((y_test[group_test == 3]), y_hat[group_test == 3])\n",
    "\n",
    "white_PPV = white_confusion_array[0][0] / (white_confusion_array[0][0] + white_confusion_array[0][1])\n",
    "black_PPV = black_confusion_array[0][0] / (black_confusion_array[0][0] + black_confusion_array[0][1])\n",
    "other_PPV = other_confusion_array[0][0] / (other_confusion_array[0][0] + other_confusion_array[0][1])\n",
    "\n",
    "group_PPV = pd.Series({\"white\": white_PPV,\"black\": black_PPV, \"other\": other_PPV})\n",
    "group_PPV_df = pd.DataFrame(group_PPV, columns=[\"PPV\"])\n",
    "group_PPV_df"
   ]
  },
  {
   "cell_type": "markdown",
   "metadata": {},
   "source": [
    "To answer question 3, we can take a simiar approach as shown above, only switching the values that we are taking from the confusion matrix "
   ]
  },
  {
   "cell_type": "code",
   "execution_count": 64,
   "metadata": {},
   "outputs": [
    {
     "data": {
      "text/html": [
       "<div>\n",
       "<style scoped>\n",
       "    .dataframe tbody tr th:only-of-type {\n",
       "        vertical-align: middle;\n",
       "    }\n",
       "\n",
       "    .dataframe tbody tr th {\n",
       "        vertical-align: top;\n",
       "    }\n",
       "\n",
       "    .dataframe thead th {\n",
       "        text-align: right;\n",
       "    }\n",
       "</style>\n",
       "<table border=\"1\" class=\"dataframe\">\n",
       "  <thead>\n",
       "    <tr style=\"text-align: right;\">\n",
       "      <th></th>\n",
       "      <th>FNR</th>\n",
       "      <th>FPR</th>\n",
       "    </tr>\n",
       "  </thead>\n",
       "  <tbody>\n",
       "    <tr>\n",
       "      <th>white</th>\n",
       "      <td>0.122824</td>\n",
       "      <td>0.220930</td>\n",
       "    </tr>\n",
       "    <tr>\n",
       "      <th>black</th>\n",
       "      <td>0.100488</td>\n",
       "      <td>0.290609</td>\n",
       "    </tr>\n",
       "    <tr>\n",
       "      <th>other</th>\n",
       "      <td>0.093750</td>\n",
       "      <td>0.322581</td>\n",
       "    </tr>\n",
       "  </tbody>\n",
       "</table>\n",
       "</div>"
      ],
      "text/plain": [
       "            FNR       FPR\n",
       "white  0.122824  0.220930\n",
       "black  0.100488  0.290609\n",
       "other  0.093750  0.322581"
      ]
     },
     "execution_count": 64,
     "metadata": {},
     "output_type": "execute_result"
    }
   ],
   "source": [
    "white_confusion_array = confusion_matrix((y_test[group_test == 1]), y_hat[group_test == 1])  \n",
    "black_confusion_array = confusion_matrix((y_test[group_test == 2]), y_hat[group_test == 2])\n",
    "other_confusion_array = confusion_matrix((y_test[group_test == 3]), y_hat[group_test == 3])\n",
    "\n",
    "white_FNR = white_confusion_array[1][0] / (white_confusion_array[0][0] + white_confusion_array[1][0])\n",
    "white_FPR = white_confusion_array[0][1] / (white_confusion_array[0][1] + white_confusion_array[1][1])\n",
    "\n",
    "black_FNR = black_confusion_array[1][0] / (black_confusion_array[0][0] + black_confusion_array[1][0])\n",
    "black_FPR = black_confusion_array[0][1] / (black_confusion_array[0][1] + black_confusion_array[1][1])\n",
    "\n",
    "other_FNR = other_confusion_array[1][0] / (other_confusion_array[0][0] + other_confusion_array[1][0])\n",
    "other_FPR = other_confusion_array[0][1] / (other_confusion_array[0][1] + other_confusion_array[1][1])\n",
    "\n",
    "group_FNR = pd.Series({\"white\": white_FNR,\"black\": black_FNR, \"other\": other_FNR})\n",
    "group_FPR = pd.Series({\"white\": white_FPR,\"black\": black_FPR, \"other\": other_FPR})\n",
    "\n",
    "\n",
    "\n",
    "group_FPR_FNR_df = pd.DataFrame({\"FNR\": group_FNR, \"FPR\": group_FPR})\n",
    "group_FPR_FNR_df"
   ]
  },
  {
   "cell_type": "markdown",
   "metadata": {},
   "source": [
    "## Bias Measures\n",
    "\n",
    "Now that we have evaluted the overall accuracy and the accuracy within groups of the model, we now use statistical definitions of fairness to ascertain a sense of the models \"fairness\". Below, we ask a few questions:\n",
    "\n",
    "1. Is the model approximately calibrated?\n",
    "2. Does the model satisfy approximate error rate balance?\n",
    "3. Does the model satisfy statistical parity?"
   ]
  },
  {
   "cell_type": "markdown",
   "metadata": {},
   "source": [
    "# Calibration"
   ]
  },
  {
   "cell_type": "markdown",
   "metadata": {},
   "source": [
    "In order to show the calibration of the model, we can define a line for each group using sklearn's `calibration_curve()` function that shows the relationship between the model's confidence in an instance x being unemployed and the actual probability of a member of group x being unemployed in the data. The dashed line depicts the result of a perfectly calibrated model."
   ]
  },
  {
   "cell_type": "code",
   "execution_count": 105,
   "metadata": {},
   "outputs": [],
   "source": [
    "scores = model.predict_proba(X_test)\n",
    "scores = np.delete(scores, 0, 1).flatten()"
   ]
  },
  {
   "cell_type": "code",
   "execution_count": 109,
   "metadata": {},
   "outputs": [
    {
     "name": "stdout",
     "output_type": "stream",
     "text": [
      "[('0.0-0.1', np.float64(6.884496124031008)), ('0.1-0.2', np.float64(5.8423255813953485)), ('0.2-0.3', np.float64(6.301796407185629)), ('0.3-0.4', np.float64(6.655493482309125)), ('0.4-0.5', np.float64(6.584488448844884)), ('0.5-0.6', np.float64(6.562513312034079)), ('0.6-0.7', np.float64(6.444224422442244)), ('0.7-0.8', np.float64(5.367728834739144)), ('0.8-0.9', np.float64(5.500320875802189)), ('0.9-1.0', np.float64(5.688888888888889)), ('1.0-1.1', np.float64(nan))]\n",
      "[('0.0-0.1', np.float64(6.149019607843138)), ('0.1-0.2', np.float64(5.944927536231884)), ('0.2-0.3', np.float64(6.417777777777777)), ('0.3-0.4', np.float64(6.182222222222222)), ('0.4-0.5', np.float64(6.345454545454546)), ('0.5-0.6', np.float64(6.602380952380952)), ('0.6-0.7', np.float64(6.448484848484848)), ('0.7-0.8', np.float64(5.287150837988827)), ('0.8-0.9', np.float64(5.462798634812287)), ('0.9-1.0', np.float64(6.2444444444444445)), ('1.0-1.1', np.float64(nan))]\n",
      "[('0.0-0.1', np.float64(5.6380952380952385)), ('0.1-0.2', np.float64(5.401851851851852)), ('0.2-0.3', np.float64(5.719047619047619)), ('0.3-0.4', np.float64(5.701960784313726)), ('0.4-0.5', np.float64(6.075555555555556)), ('0.5-0.6', np.float64(6.442857142857143)), ('0.6-0.7', np.float64(6.079674796747968)), ('0.7-0.8', np.float64(5.21875)), ('0.8-0.9', np.float64(5.483076923076923)), ('0.9-1.0', np.float64(5.921212121212121)), ('1.0-1.1', np.float64(nan))]\n"
     ]
    },
    {
     "name": "stderr",
     "output_type": "stream",
     "text": [
      "/var/folders/pv/gfxr_25s0q9gt_2k6h_bbgmc0000gn/T/ipykernel_78225/1140265204.py:14: RuntimeWarning: Mean of empty slice.\n",
      "  score_mean = group_scores.mean()\n",
      "/opt/anaconda3/envs/ml-0451/lib/python3.12/site-packages/numpy/_core/_methods.py:145: RuntimeWarning: invalid value encountered in scalar divide\n",
      "  ret = ret.dtype.type(ret / rcount)\n"
     ]
    }
   ],
   "source": [
    "import pandas as pd\n",
    "# Where do we get the scores?\n",
    "white_array = []\n",
    "black_array = []\n",
    "other_array = []\n",
    "\n",
    "def fill_scores(group_num, group_array):\n",
    "    i = 0 \n",
    "    while i < 1.0:\n",
    "        if group_num == 3:\n",
    "            group_scores = X_test[(y_test == 1) & (group_test >= group_num) & (scores >= i) & (scores < (i+0.1))]\n",
    "        else:\n",
    "            group_scores = X_test[(y_test == 1) & (group_test == group_num) & (scores >= i) & (scores < (i+0.1))]\n",
    "        score_mean = group_scores.mean()\n",
    "        group_array.append((f\"{i:.1f}-{i+0.1:.1f}\", score_mean))\n",
    "        i+=0.1\n",
    "fill_scores(1, white_array)\n",
    "fill_scores(2, black_array)\n",
    "fill_scores(3, other_array)\n",
    "print(white_array) \n",
    "print(black_array)\n",
    "print(other_array)"
   ]
  },
  {
   "cell_type": "code",
   "execution_count": 71,
   "metadata": {},
   "outputs": [
    {
     "data": {
      "text/plain": [
       "[<matplotlib.lines.Line2D at 0x34ec7d7c0>]"
      ]
     },
     "execution_count": 71,
     "metadata": {},
     "output_type": "execute_result"
    },
    {
     "data": {
      "image/png": "[encoded data removed]",
      "text/plain": [
       "<Figure size 640x480 with 1 Axes>"
      ]
     },
     "metadata": {},
     "output_type": "display_data"
    }
   ],
   "source": [
    "import matplotlib.pyplot as plt\n",
    "from sklearn.calibration import calibration_curve\n",
    "\n",
    "prob_true, prob_pred = calibration_curve(y_test[group_test == 1], y_hat[group_test == 1], n_bins=10)\n",
    "plt.plot(prob_pred, prob_true)\n",
    "plt.plot([0, 1], [0, 1], linestyle='--')\n",
    "plt.xlabel('Predicted Probability')\n",
    "plt.ylabel('True Probability')\n",
    "plt.title('Calibration Plot')\n",
    "\n",
    "prob_true, prob_pred = calibration_curve(y_test[group_test == 2], y_hat[group_test == 2], n_bins=10)\n",
    "plt.plot(prob_pred, prob_true)\n",
    "\n",
    "\n",
    "prob_true, prob_pred = calibration_curve(y_test[group_test >= 3], y_hat[group_test >= 3], n_bins=10)\n",
    "plt.plot(prob_pred, prob_true)\n"
   ]
  },
  {
   "cell_type": "markdown",
   "metadata": {},
   "source": [
    "# Results\n",
    "We can see that for each group, the calibration curve is roughly the same. While the model generally over estimates between scores 0 and 0.4 and underestimates between 0.4 and 1.0, the calibration error is approximately the same between all three groups, making this model approximately well-calibrated."
   ]
  },
  {
   "cell_type": "markdown",
   "metadata": {},
   "source": [
    "# Error Rate Balance"
   ]
  },
  {
   "cell_type": "markdown",
   "metadata": {},
   "source": [
    "To answer question 2, we must see if the true positive and false positive rates between the three groups are roughly equal. As we have done before, we display a dataframe that will allow us to analyze the relationship of the true postive and false positive rates between groups. Because we have already computed the false positive rate for each group, we only need to compute the true positive rate."
   ]
  },
  {
   "cell_type": "code",
   "execution_count": 67,
   "metadata": {},
   "outputs": [
    {
     "data": {
      "text/html": [
       "<div>\n",
       "<style scoped>\n",
       "    .dataframe tbody tr th:only-of-type {\n",
       "        vertical-align: middle;\n",
       "    }\n",
       "\n",
       "    .dataframe tbody tr th {\n",
       "        vertical-align: top;\n",
       "    }\n",
       "\n",
       "    .dataframe thead th {\n",
       "        text-align: right;\n",
       "    }\n",
       "</style>\n",
       "<table border=\"1\" class=\"dataframe\">\n",
       "  <thead>\n",
       "    <tr style=\"text-align: right;\">\n",
       "      <th></th>\n",
       "      <th>TPR</th>\n",
       "      <th>FPR</th>\n",
       "    </tr>\n",
       "  </thead>\n",
       "  <tbody>\n",
       "    <tr>\n",
       "      <th>white</th>\n",
       "      <td>0.877176</td>\n",
       "      <td>0.220930</td>\n",
       "    </tr>\n",
       "    <tr>\n",
       "      <th>black</th>\n",
       "      <td>0.899512</td>\n",
       "      <td>0.290609</td>\n",
       "    </tr>\n",
       "    <tr>\n",
       "      <th>other</th>\n",
       "      <td>0.906250</td>\n",
       "      <td>0.322581</td>\n",
       "    </tr>\n",
       "  </tbody>\n",
       "</table>\n",
       "</div>"
      ],
      "text/plain": [
       "            TPR       FPR\n",
       "white  0.877176  0.220930\n",
       "black  0.899512  0.290609\n",
       "other  0.906250  0.322581"
      ]
     },
     "execution_count": 67,
     "metadata": {},
     "output_type": "execute_result"
    }
   ],
   "source": [
    "white_confusion_array = confusion_matrix((y_test[group_test == 1]), y_hat[group_test == 1])  \n",
    "black_confusion_array = confusion_matrix((y_test[group_test == 2]), y_hat[group_test == 2])\n",
    "other_confusion_array = confusion_matrix((y_test[group_test == 3]), y_hat[group_test == 3])\n",
    "\n",
    "white_TPR = white_confusion_array[0][0] / (white_confusion_array[0][0] + white_confusion_array[1][0])\n",
    "\n",
    "black_TPR = black_confusion_array[0][0] / (black_confusion_array[0][0] + black_confusion_array[1][0])\n",
    "\n",
    "other_TPR = other_confusion_array[0][0] / (other_confusion_array[0][0] + other_confusion_array[1][0])\n",
    "\n",
    "group_TPR = pd.Series({\"white\": white_TPR,\"black\": black_TPR, \"other\": other_TPR})\n",
    "\n",
    "\n",
    "\n",
    "group_TPR_FPR_df = pd.DataFrame({\"TPR\": group_TPR, \"FPR\": group_FPR})\n",
    "group_TPR_FPR_df"
   ]
  },
  {
   "cell_type": "markdown",
   "metadata": {},
   "source": [
    "We can see that between the 3 groups, the TPR and FPR are roughly the same, with the TPR for each group around 90% and the FPR around 30%."
   ]
  },
  {
   "cell_type": "markdown",
   "metadata": {},
   "source": [
    "# Statistical Parity"
   ]
  },
  {
   "cell_type": "markdown",
   "metadata": {},
   "source": [
    "To answer question 3 and evaluate the model for statistical parity, we must evaluate if the probability of positive prediction (this person is predicted to be employed) is the same across the different groups (black, white, other)."
   ]
  },
  {
   "cell_type": "code",
   "execution_count": 68,
   "metadata": {},
   "outputs": [
    {
     "data": {
      "text/html": [
       "<div>\n",
       "<style scoped>\n",
       "    .dataframe tbody tr th:only-of-type {\n",
       "        vertical-align: middle;\n",
       "    }\n",
       "\n",
       "    .dataframe tbody tr th {\n",
       "        vertical-align: top;\n",
       "    }\n",
       "\n",
       "    .dataframe thead th {\n",
       "        text-align: right;\n",
       "    }\n",
       "</style>\n",
       "<table border=\"1\" class=\"dataframe\">\n",
       "  <thead>\n",
       "    <tr style=\"text-align: right;\">\n",
       "      <th></th>\n",
       "      <th>Probability of Employed Prediction</th>\n",
       "    </tr>\n",
       "  </thead>\n",
       "  <tbody>\n",
       "    <tr>\n",
       "      <th>white</th>\n",
       "      <td>0.511448</td>\n",
       "    </tr>\n",
       "    <tr>\n",
       "      <th>black</th>\n",
       "      <td>0.434639</td>\n",
       "    </tr>\n",
       "    <tr>\n",
       "      <th>other</th>\n",
       "      <td>0.445860</td>\n",
       "    </tr>\n",
       "  </tbody>\n",
       "</table>\n",
       "</div>"
      ],
      "text/plain": [
       "       Probability of Employed Prediction\n",
       "white                            0.511448\n",
       "black                            0.434639\n",
       "other                            0.445860"
      ]
     },
     "execution_count": 68,
     "metadata": {},
     "output_type": "execute_result"
    }
   ],
   "source": [
    "prob_white = X_test[(group_test == 1) & (y_hat == 1)].shape[0] / X_test[group_test == 1].shape[0] \n",
    "prob_black = X_test[(group_test == 2) & (y_hat == 1)].shape[0] / X_test[group_test == 2].shape[0] \n",
    "prob_other = X_test[(group_test >= 3) & (y_hat == 1)].shape[0] / X_test[group_test >= 3].shape[0] \n",
    "prob_series = pd.Series({\"white\": prob_white, \"black\": prob_black, \"other\": prob_other})\n",
    "prob_df = pd.DataFrame(prob_series, columns=[\"Probability of Employed Prediction\"])\n",
    "prob_df"
   ]
  },
  {
   "cell_type": "markdown",
   "metadata": {},
   "source": [
    "We can see here that model does not pass the test of statistical parity, as the `black` and `other` groups have roughly the same percentage, however the `white` group is ahead of both by roughly 7 percent."
   ]
  },
  {
   "cell_type": "markdown",
   "metadata": {},
   "source": [
    "We will conclude our visual demonstration of the fairness of this model by showing the relationship between the FPR and FNR of each group as well as the possible FNR and FPR values, depicted by lines showing the relationship between the FPR and FNR."
   ]
  },
  {
   "cell_type": "code",
   "execution_count": 69,
   "metadata": {},
   "outputs": [
    {
     "data": {
      "image/png": "[encoded data removed]",
      "text/plain": [
       "<Figure size 900x500 with 1 Axes>"
      ]
     },
     "metadata": {},
     "output_type": "display_data"
    }
   ],
   "source": [
    "import seaborn as sns\n",
    "import matplotlib.pyplot as pyplot\n",
    "\n",
    "#FPR and FNR for each group\n",
    "FPR_groups = [white_FPR, black_FPR, other_FPR]\n",
    "FNR_groups = [white_FNR, black_FNR, other_FNR]\n",
    "\n",
    "#prevalance percentage for each group\n",
    "white_p = X_test[(group_test == 1) & (y_test == 1)].shape[0] / X_test[group_test == 1].shape[0]\n",
    "black_p = X_test[(group_test == 2) & (y_test == 1)].shape[0] / X_test[group_test == 2].shape[0]\n",
    "other_p = X_test[(group_test >= 3) & (y_test == 1)].shape[0] / X_test[group_test >= 3].shape[0]\n",
    "\n",
    "#Calibrating model \n",
    "group_PPV = min(white_PPV, black_PPV, other_PPV)\n",
    "\n",
    "#line of feasible FPR and FNR values for each group\n",
    "fnr_values = np.linspace(0, 1, 100)\n",
    "white_fpr_values = (white_p / (1 - white_p)) * ((1 - group_PPV) / group_PPV) * (1 - fnr_values)\n",
    "black_fpr_values = (black_p / (1 - black_p)) * ((1 - group_PPV) / group_PPV) * (1 - fnr_values)\n",
    "other_fpr_values = (other_p / (1 - other_p)) * ((1 - group_PPV) / group_PPV) * (1 - fnr_values)\n",
    "\n",
    "pyplot.figure(figsize=(9, 5))\n",
    "pyplot.title(\"Feasible (FNR, FPR) combinations\")\n",
    "pyplot.xlim(0, 1)\n",
    "pyplot.xlabel(\"False Negative Rate\")\n",
    "pyplot.ylim(0, 1)\n",
    "pyplot.ylabel(\"False Positive Rate\")\n",
    "\n",
    "group_labels = [\"White\", \"Black\", \"Other\"]\n",
    "palette = {\"White\": \"yellow\", \"Black\": \"black\", \"Other\": \"red\"}\n",
    "\n",
    "sns.scatterplot(x=FNR_groups, y=FPR_groups, hue = group_labels, palette=palette)\n",
    "sns.lineplot(x=fnr_values, y = white_fpr_values, color=\"yellow\")\n",
    "sns.lineplot(x=fnr_values, y = black_fpr_values, color=\"black\")\n",
    "sns.lineplot(x=fnr_values, y = other_fpr_values, color=\"red\")\n",
    "\n",
    "pyplot.show()"
   ]
  },
  {
   "cell_type": "markdown",
   "metadata": {},
   "source": [
    "# Balancing the FPR "
   ]
  },
  {
   "cell_type": "markdown",
   "metadata": {},
   "source": [
    "This plot could also assist in answering the following question: If the classifier threshold is tuned so that FPR is equal between groups, how much would be need to change the FNR?\n",
    "\n",
    "As shown by the graph, the converging of the line shows when FPR's for each group become equal. In order to make the FPR equal between each group, the FNR would have to be approximately 0.8."
   ]
  },
  {
   "cell_type": "markdown",
   "metadata": {},
   "source": [
    "# Concluding Discussion\n",
    "To conclude our discussion auditing the fairness of this model that predicts employment status, I will answer a few questions regarding the overall fairness concerns and impact of this particular predictor model."
   ]
  },
  {
   "cell_type": "markdown",
   "metadata": {},
   "source": [
    "1. What groups of people stand to benefit from a system that is able to predict a person's employment status?"
   ]
  },
  {
   "cell_type": "markdown",
   "metadata": {},
   "source": [
    "I believe that a predictor of employment status could be used for good by the government and companies aimed at getting the unemployed employed or simply want to find potential workers by using the model to find areas where unemployment is likely prevalent and develop resources to get more people employed. "
   ]
  },
  {
   "cell_type": "markdown",
   "metadata": {},
   "source": [
    "2. Based on the bias audit, what could be the impact of deploying the model for large-scale prediction in commmerical or governmental settings?"
   ]
  },
  {
   "cell_type": "markdown",
   "metadata": {},
   "source": [
    "I feel that based on the bias audit conducted, the model is mostly accurate in its predictions, is approximately calibrated and has an approximate error rate balance, so use for large-scale prediction should have a positive impact, if the goal of the predictions is to find areas where people do not have jobs and work to give them jobs. This could also, however, negatively impact certain neighborhoods / demographics that have a large population of predicted unemployment, whereby stores may not want to open in those areas, or goverment/commerical forces make delibrate moves that make the lives of those people more difficult."
   ]
  },
  {
   "cell_type": "markdown",
   "metadata": {},
   "source": [
    "3. Based on the bias audit, do you feel that the model displays problematic bias?"
   ]
  },
  {
   "cell_type": "markdown",
   "metadata": {},
   "source": [
    "Because the model did not pass the statistical parity auditing test, with the rate of positive predictions (predicting said person is employed) for white people because statistically higher that black or racially self-identified people, the model could reinforce existing racial disparities in employment and therefore displays possible problematic bias."
   ]
  },
  {
   "cell_type": "markdown",
   "metadata": {},
   "source": [
    "4. Beyond bias, are there other potential problems associated with deployment of the model that feel uncomfortable? How could those problems be addressed?"
   ]
  },
  {
   "cell_type": "markdown",
   "metadata": {},
   "source": [
    "Beyond bias, I feel that because this predictor model is a black box, justification is not provided to those predicted to be employed or unemployed and that to me is uncomfortable. Because the prediction the model makes could have an impact on individual lives if this were implemented at a wide-scale on a goverment level, I would hope an implmentation to appeal or justify the predictions made by the model would be in place, and non-computer generated tasks could also aid in producing accurate predictions."
   ]
  }
 ],
 "metadata": {
  "kernelspec": {
   "display_name": "ml-0451",
   "language": "python",
   "name": "python3"
  },
  "language_info": {
   "codemirror_mode": {
    "name": "ipython",
    "version": 3
   },
   "file_extension": ".py",
   "mimetype": "text/x-python",
   "name": "python",
   "nbconvert_exporter": "python",
   "pygments_lexer": "ipython3",
   "version": "3.12.8"
  }
 },
 "nbformat": 4,
 "nbformat_minor": 4
}
