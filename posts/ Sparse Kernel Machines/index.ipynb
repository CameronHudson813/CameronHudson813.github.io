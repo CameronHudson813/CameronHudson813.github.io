{
 "cells": [
  {
   "cell_type": "raw",
   "id": "0270bd30",
   "metadata": {
    "vscode": {
     "languageId": "raw"
    }
   },
   "source": [
    "---\n",
    "title: Sparse Kernel Machines\n",
    "author: Cameron Hudson\n",
    "date: '2025-05-13'\n",
    "image: \"image.jpg\"\n",
    "description: \"A blog post exploring kernelized logisitic regression\"\n",
    "format: html\n",
    "---"
   ]
  },
  {
   "cell_type": "raw",
   "id": "e6315773",
   "metadata": {},
   "source": []
  }
 ],
 "metadata": {
  "kernelspec": {
   "display_name": "ml-0451",
   "language": "python",
   "name": "python3"
  },
  "language_info": {
   "codemirror_mode": {
    "name": "ipython",
    "version": 3
   },
   "file_extension": ".py",
   "mimetype": "text/x-python",
   "name": "python",
   "nbconvert_exporter": "python",
   "pygments_lexer": "ipython3",
   "version": "3.12.8"
  }
 },
 "nbformat": 4,
 "nbformat_minor": 5
}
